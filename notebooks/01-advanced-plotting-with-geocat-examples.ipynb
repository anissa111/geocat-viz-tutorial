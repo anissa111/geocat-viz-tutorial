{
 "cells": [
  {
   "cell_type": "markdown",
   "metadata": {
    "tags": []
   },
   "source": [
    "<img src=\"../images/GeoCAT_logo.png\" width=400 alt=\"GeoCAT Logo\"></img>"
   ]
  },
  {
   "cell_type": "markdown",
   "metadata": {
    "tags": []
   },
   "source": [
    "# Advanced Matplotlib: Animation"
   ]
  },
  {
   "cell_type": "markdown",
   "metadata": {},
   "source": [
    "---"
   ]
  },
  {
   "cell_type": "markdown",
   "metadata": {
    "tags": []
   },
   "source": [
    "## Learning Objectives\n",
    "- Navigating GeoCAT-examples gallery\n",
    "- Recreating an advanced matplotlib example with GeoCAT-examples\n",
    "- Creating an animated plot"
   ]
  },
  {
   "cell_type": "markdown",
   "metadata": {},
   "source": [
    "## Prerequisites\n",
    "\n",
    "\n",
    "| Concepts | Importance |\n",
    "| --- | --- |\n",
    "| Basic familiarity with NumPy | Necessary |\n",
    "| Basic familiarity with Matplotlib | Necessary |\n",
    "| Basic familiarity with Cartopy | Helpful |\n",
    "| Basic familiarity with Xarray | Helpful |\n",
    "\n",
    "- **Time to learn**: *15-20 minutes*\n"
   ]
  },
  {
   "cell_type": "markdown",
   "metadata": {},
   "source": [
    "---"
   ]
  },
  {
   "cell_type": "markdown",
   "metadata": {},
   "source": [
    "In this notebook, we are going to roughly follow an example from GeoCAT-examples Gallery, [animate_1](https://geocat-examples.readthedocs.io/en/latest/gallery/Animations/NCL_animate_1.html), excluding the NCL formatting and documentation generation specific parts."
   ]
  },
  {
   "cell_type": "markdown",
   "metadata": {},
   "source": [
    "## Imports"
   ]
  },
  {
   "cell_type": "code",
   "execution_count": 1,
   "metadata": {},
   "outputs": [],
   "source": [
    "import cartopy.crs as ccrs\n",
    "import numpy as np\n",
    "import xarray as xr\n",
    "from matplotlib import pyplot as plt"
   ]
  },
  {
   "cell_type": "code",
   "execution_count": null,
   "metadata": {},
   "outputs": [],
   "source": [
    "# geocat specific imports\n",
    "import geocat.datafiles as gdf"
   ]
  },
  {
   "cell_type": "markdown",
   "metadata": {},
   "source": [
    "## Get the data we want to animate\n",
    "If you're replicating a script from geocat-examples, there's a good chance that we've stored the required data files in a repository called [geocat-datafiles](https://github.com/NCAR/geocat-datafiles), which we can pull from."
   ]
  },
  {
   "cell_type": "code",
   "execution_count": null,
   "metadata": {},
   "outputs": [],
   "source": [
    "# Open a netCDF data file using xarray default engine and load the data into xarrays\n",
    "ds = xr.open_dataset(gdf.get(\"netcdf_files/meccatemp.cdf\"), decode_times=False)\n",
    "\n",
    "# Pull out surface tempterature Dataarray from xarray Dataset\n",
    "tas = ds.t"
   ]
  },
  {
   "cell_type": "code",
   "execution_count": null,
   "metadata": {},
   "outputs": [
    {
     "data": {
      "text/html": [
       "<div><svg style=\"position: absolute; width: 0; height: 0; overflow: hidden\">\n",
       "<defs>\n",
       "<symbol id=\"icon-database\" viewBox=\"0 0 32 32\">\n",
       "<path d=\"M16 0c-8.837 0-16 2.239-16 5v4c0 2.761 7.163 5 16 5s16-2.239 16-5v-4c0-2.761-7.163-5-16-5z\"></path>\n",
       "<path d=\"M16 17c-8.837 0-16-2.239-16-5v6c0 2.761 7.163 5 16 5s16-2.239 16-5v-6c0 2.761-7.163 5-16 5z\"></path>\n",
       "<path d=\"M16 26c-8.837 0-16-2.239-16-5v6c0 2.761 7.163 5 16 5s16-2.239 16-5v-6c0 2.761-7.163 5-16 5z\"></path>\n",
       "</symbol>\n",
       "<symbol id=\"icon-file-text2\" viewBox=\"0 0 32 32\">\n",
       "<path d=\"M28.681 7.159c-0.694-0.947-1.662-2.053-2.724-3.116s-2.169-2.030-3.116-2.724c-1.612-1.182-2.393-1.319-2.841-1.319h-15.5c-1.378 0-2.5 1.121-2.5 2.5v27c0 1.378 1.122 2.5 2.5 2.5h23c1.378 0 2.5-1.122 2.5-2.5v-19.5c0-0.448-0.137-1.23-1.319-2.841zM24.543 5.457c0.959 0.959 1.712 1.825 2.268 2.543h-4.811v-4.811c0.718 0.556 1.584 1.309 2.543 2.268zM28 29.5c0 0.271-0.229 0.5-0.5 0.5h-23c-0.271 0-0.5-0.229-0.5-0.5v-27c0-0.271 0.229-0.5 0.5-0.5 0 0 15.499-0 15.5 0v7c0 0.552 0.448 1 1 1h7v19.5z\"></path>\n",
       "<path d=\"M23 26h-14c-0.552 0-1-0.448-1-1s0.448-1 1-1h14c0.552 0 1 0.448 1 1s-0.448 1-1 1z\"></path>\n",
       "<path d=\"M23 22h-14c-0.552 0-1-0.448-1-1s0.448-1 1-1h14c0.552 0 1 0.448 1 1s-0.448 1-1 1z\"></path>\n",
       "<path d=\"M23 18h-14c-0.552 0-1-0.448-1-1s0.448-1 1-1h14c0.552 0 1 0.448 1 1s-0.448 1-1 1z\"></path>\n",
       "</symbol>\n",
       "</defs>\n",
       "</svg>\n",
       "<style>/* CSS stylesheet for displaying xarray objects in jupyterlab.\n",
       " *\n",
       " */\n",
       "\n",
       ":root {\n",
       "  --xr-font-color0: var(--jp-content-font-color0, rgba(0, 0, 0, 1));\n",
       "  --xr-font-color2: var(--jp-content-font-color2, rgba(0, 0, 0, 0.54));\n",
       "  --xr-font-color3: var(--jp-content-font-color3, rgba(0, 0, 0, 0.38));\n",
       "  --xr-border-color: var(--jp-border-color2, #e0e0e0);\n",
       "  --xr-disabled-color: var(--jp-layout-color3, #bdbdbd);\n",
       "  --xr-background-color: var(--jp-layout-color0, white);\n",
       "  --xr-background-color-row-even: var(--jp-layout-color1, white);\n",
       "  --xr-background-color-row-odd: var(--jp-layout-color2, #eeeeee);\n",
       "}\n",
       "\n",
       "html[theme=dark],\n",
       "body.vscode-dark {\n",
       "  --xr-font-color0: rgba(255, 255, 255, 1);\n",
       "  --xr-font-color2: rgba(255, 255, 255, 0.54);\n",
       "  --xr-font-color3: rgba(255, 255, 255, 0.38);\n",
       "  --xr-border-color: #1F1F1F;\n",
       "  --xr-disabled-color: #515151;\n",
       "  --xr-background-color: #111111;\n",
       "  --xr-background-color-row-even: #111111;\n",
       "  --xr-background-color-row-odd: #313131;\n",
       "}\n",
       "\n",
       ".xr-wrap {\n",
       "  display: block;\n",
       "  min-width: 300px;\n",
       "  max-width: 700px;\n",
       "}\n",
       "\n",
       ".xr-text-repr-fallback {\n",
       "  /* fallback to plain text repr when CSS is not injected (untrusted notebook) */\n",
       "  display: none;\n",
       "}\n",
       "\n",
       ".xr-header {\n",
       "  padding-top: 6px;\n",
       "  padding-bottom: 6px;\n",
       "  margin-bottom: 4px;\n",
       "  border-bottom: solid 1px var(--xr-border-color);\n",
       "}\n",
       "\n",
       ".xr-header > div,\n",
       ".xr-header > ul {\n",
       "  display: inline;\n",
       "  margin-top: 0;\n",
       "  margin-bottom: 0;\n",
       "}\n",
       "\n",
       ".xr-obj-type,\n",
       ".xr-array-name {\n",
       "  margin-left: 2px;\n",
       "  margin-right: 10px;\n",
       "}\n",
       "\n",
       ".xr-obj-type {\n",
       "  color: var(--xr-font-color2);\n",
       "}\n",
       "\n",
       ".xr-sections {\n",
       "  padding-left: 0 !important;\n",
       "  display: grid;\n",
       "  grid-template-columns: 150px auto auto 1fr 20px 20px;\n",
       "}\n",
       "\n",
       ".xr-section-item {\n",
       "  display: contents;\n",
       "}\n",
       "\n",
       ".xr-section-item input {\n",
       "  display: none;\n",
       "}\n",
       "\n",
       ".xr-section-item input + label {\n",
       "  color: var(--xr-disabled-color);\n",
       "}\n",
       "\n",
       ".xr-section-item input:enabled + label {\n",
       "  cursor: pointer;\n",
       "  color: var(--xr-font-color2);\n",
       "}\n",
       "\n",
       ".xr-section-item input:enabled + label:hover {\n",
       "  color: var(--xr-font-color0);\n",
       "}\n",
       "\n",
       ".xr-section-summary {\n",
       "  grid-column: 1;\n",
       "  color: var(--xr-font-color2);\n",
       "  font-weight: 500;\n",
       "}\n",
       "\n",
       ".xr-section-summary > span {\n",
       "  display: inline-block;\n",
       "  padding-left: 0.5em;\n",
       "}\n",
       "\n",
       ".xr-section-summary-in:disabled + label {\n",
       "  color: var(--xr-font-color2);\n",
       "}\n",
       "\n",
       ".xr-section-summary-in + label:before {\n",
       "  display: inline-block;\n",
       "  content: '►';\n",
       "  font-size: 11px;\n",
       "  width: 15px;\n",
       "  text-align: center;\n",
       "}\n",
       "\n",
       ".xr-section-summary-in:disabled + label:before {\n",
       "  color: var(--xr-disabled-color);\n",
       "}\n",
       "\n",
       ".xr-section-summary-in:checked + label:before {\n",
       "  content: '▼';\n",
       "}\n",
       "\n",
       ".xr-section-summary-in:checked + label > span {\n",
       "  display: none;\n",
       "}\n",
       "\n",
       ".xr-section-summary,\n",
       ".xr-section-inline-details {\n",
       "  padding-top: 4px;\n",
       "  padding-bottom: 4px;\n",
       "}\n",
       "\n",
       ".xr-section-inline-details {\n",
       "  grid-column: 2 / -1;\n",
       "}\n",
       "\n",
       ".xr-section-details {\n",
       "  display: none;\n",
       "  grid-column: 1 / -1;\n",
       "  margin-bottom: 5px;\n",
       "}\n",
       "\n",
       ".xr-section-summary-in:checked ~ .xr-section-details {\n",
       "  display: contents;\n",
       "}\n",
       "\n",
       ".xr-array-wrap {\n",
       "  grid-column: 1 / -1;\n",
       "  display: grid;\n",
       "  grid-template-columns: 20px auto;\n",
       "}\n",
       "\n",
       ".xr-array-wrap > label {\n",
       "  grid-column: 1;\n",
       "  vertical-align: top;\n",
       "}\n",
       "\n",
       ".xr-preview {\n",
       "  color: var(--xr-font-color3);\n",
       "}\n",
       "\n",
       ".xr-array-preview,\n",
       ".xr-array-data {\n",
       "  padding: 0 5px !important;\n",
       "  grid-column: 2;\n",
       "}\n",
       "\n",
       ".xr-array-data,\n",
       ".xr-array-in:checked ~ .xr-array-preview {\n",
       "  display: none;\n",
       "}\n",
       "\n",
       ".xr-array-in:checked ~ .xr-array-data,\n",
       ".xr-array-preview {\n",
       "  display: inline-block;\n",
       "}\n",
       "\n",
       ".xr-dim-list {\n",
       "  display: inline-block !important;\n",
       "  list-style: none;\n",
       "  padding: 0 !important;\n",
       "  margin: 0;\n",
       "}\n",
       "\n",
       ".xr-dim-list li {\n",
       "  display: inline-block;\n",
       "  padding: 0;\n",
       "  margin: 0;\n",
       "}\n",
       "\n",
       ".xr-dim-list:before {\n",
       "  content: '(';\n",
       "}\n",
       "\n",
       ".xr-dim-list:after {\n",
       "  content: ')';\n",
       "}\n",
       "\n",
       ".xr-dim-list li:not(:last-child):after {\n",
       "  content: ',';\n",
       "  padding-right: 5px;\n",
       "}\n",
       "\n",
       ".xr-has-index {\n",
       "  font-weight: bold;\n",
       "}\n",
       "\n",
       ".xr-var-list,\n",
       ".xr-var-item {\n",
       "  display: contents;\n",
       "}\n",
       "\n",
       ".xr-var-item > div,\n",
       ".xr-var-item label,\n",
       ".xr-var-item > .xr-var-name span {\n",
       "  background-color: var(--xr-background-color-row-even);\n",
       "  margin-bottom: 0;\n",
       "}\n",
       "\n",
       ".xr-var-item > .xr-var-name:hover span {\n",
       "  padding-right: 5px;\n",
       "}\n",
       "\n",
       ".xr-var-list > li:nth-child(odd) > div,\n",
       ".xr-var-list > li:nth-child(odd) > label,\n",
       ".xr-var-list > li:nth-child(odd) > .xr-var-name span {\n",
       "  background-color: var(--xr-background-color-row-odd);\n",
       "}\n",
       "\n",
       ".xr-var-name {\n",
       "  grid-column: 1;\n",
       "}\n",
       "\n",
       ".xr-var-dims {\n",
       "  grid-column: 2;\n",
       "}\n",
       "\n",
       ".xr-var-dtype {\n",
       "  grid-column: 3;\n",
       "  text-align: right;\n",
       "  color: var(--xr-font-color2);\n",
       "}\n",
       "\n",
       ".xr-var-preview {\n",
       "  grid-column: 4;\n",
       "}\n",
       "\n",
       ".xr-var-name,\n",
       ".xr-var-dims,\n",
       ".xr-var-dtype,\n",
       ".xr-preview,\n",
       ".xr-attrs dt {\n",
       "  white-space: nowrap;\n",
       "  overflow: hidden;\n",
       "  text-overflow: ellipsis;\n",
       "  padding-right: 10px;\n",
       "}\n",
       "\n",
       ".xr-var-name:hover,\n",
       ".xr-var-dims:hover,\n",
       ".xr-var-dtype:hover,\n",
       ".xr-attrs dt:hover {\n",
       "  overflow: visible;\n",
       "  width: auto;\n",
       "  z-index: 1;\n",
       "}\n",
       "\n",
       ".xr-var-attrs,\n",
       ".xr-var-data {\n",
       "  display: none;\n",
       "  background-color: var(--xr-background-color) !important;\n",
       "  padding-bottom: 5px !important;\n",
       "}\n",
       "\n",
       ".xr-var-attrs-in:checked ~ .xr-var-attrs,\n",
       ".xr-var-data-in:checked ~ .xr-var-data {\n",
       "  display: block;\n",
       "}\n",
       "\n",
       ".xr-var-data > table {\n",
       "  float: right;\n",
       "}\n",
       "\n",
       ".xr-var-name span,\n",
       ".xr-var-data,\n",
       ".xr-attrs {\n",
       "  padding-left: 25px !important;\n",
       "}\n",
       "\n",
       ".xr-attrs,\n",
       ".xr-var-attrs,\n",
       ".xr-var-data {\n",
       "  grid-column: 1 / -1;\n",
       "}\n",
       "\n",
       "dl.xr-attrs {\n",
       "  padding: 0;\n",
       "  margin: 0;\n",
       "  display: grid;\n",
       "  grid-template-columns: 125px auto;\n",
       "}\n",
       "\n",
       ".xr-attrs dt,\n",
       ".xr-attrs dd {\n",
       "  padding: 0;\n",
       "  margin: 0;\n",
       "  float: left;\n",
       "  padding-right: 10px;\n",
       "  width: auto;\n",
       "}\n",
       "\n",
       ".xr-attrs dt {\n",
       "  font-weight: normal;\n",
       "  grid-column: 1;\n",
       "}\n",
       "\n",
       ".xr-attrs dt:hover span {\n",
       "  display: inline-block;\n",
       "  background: var(--xr-background-color);\n",
       "  padding-right: 10px;\n",
       "}\n",
       "\n",
       ".xr-attrs dd {\n",
       "  grid-column: 2;\n",
       "  white-space: pre-wrap;\n",
       "  word-break: break-all;\n",
       "}\n",
       "\n",
       ".xr-icon-database,\n",
       ".xr-icon-file-text2 {\n",
       "  display: inline-block;\n",
       "  vertical-align: middle;\n",
       "  width: 1em;\n",
       "  height: 1.5em !important;\n",
       "  stroke-width: 0;\n",
       "  stroke: currentColor;\n",
       "  fill: currentColor;\n",
       "}\n",
       "</style><pre class='xr-text-repr-fallback'>&lt;xarray.DataArray &#x27;t&#x27; (time: 31, lat: 40, lon: 49)&gt;\n",
       "array([[[273.15997, 273.15997, ..., 273.15997, 273.15997],\n",
       "        [273.15997, 273.15997, ..., 273.15997, 273.15997],\n",
       "        ...,\n",
       "        [244.45306, 246.54042, ..., 248.61827, 244.45306],\n",
       "        [250.04216, 250.22568, ..., 249.83124, 250.04216]],\n",
       "\n",
       "       [[273.15997, 273.15997, ..., 273.15997, 273.15997],\n",
       "        [273.15997, 273.15997, ..., 273.15997, 273.15997],\n",
       "        ...,\n",
       "        [235.51505, 236.63818, ..., 234.55936, 235.51505],\n",
       "        [243.88503, 243.72353, ..., 244.17729, 243.88503]],\n",
       "\n",
       "       ...,\n",
       "\n",
       "       [[252.65335, 253.03725, ..., 252.30899, 252.65335],\n",
       "        [261.95084, 263.23178, ..., 260.72147, 261.95084],\n",
       "        ...,\n",
       "        [248.28166, 244.65604, ..., 248.88187, 248.28166],\n",
       "        [242.80939, 242.77512, ..., 242.7461 , 242.80939]],\n",
       "\n",
       "       [[247.30048, 249.20201, ..., 246.48567, 247.30048],\n",
       "        [258.08194, 260.4798 , ..., 254.9618 , 258.08194],\n",
       "        ...,\n",
       "        [235.83098, 234.93298, ..., 236.46327, 235.83098],\n",
       "        [237.2076 , 237.15004, ..., 237.24037, 237.2076 ]]], dtype=float32)\n",
       "Coordinates:\n",
       "  * lat      (lat) int32 -86 -82 -77 -73 -68 -64 -59 ... 59 64 68 73 77 82 86\n",
       "  * lon      (lon) int32 -180 -172 -165 -157 -150 -142 ... 150 157 165 172 180\n",
       "  * time     (time) int32 1 2 3 4 5 6 7 8 9 10 ... 22 23 24 25 26 27 28 29 30 31\n",
       "Attributes:\n",
       "    units:    degrees</pre><div class='xr-wrap' hidden><div class='xr-header'><div class='xr-obj-type'>xarray.DataArray</div><div class='xr-array-name'>'t'</div><ul class='xr-dim-list'><li><span class='xr-has-index'>time</span>: 31</li><li><span class='xr-has-index'>lat</span>: 40</li><li><span class='xr-has-index'>lon</span>: 49</li></ul></div><ul class='xr-sections'><li class='xr-section-item'><div class='xr-array-wrap'><input id='section-201b07b7-a839-402f-81d3-74e1403531af' class='xr-array-in' type='checkbox' checked><label for='section-201b07b7-a839-402f-81d3-74e1403531af' title='Show/hide data repr'><svg class='icon xr-icon-database'><use xlink:href='#icon-database'></use></svg></label><div class='xr-array-preview xr-preview'><span>273.2 273.2 273.2 273.2 273.2 273.2 ... 240.4 240.5 237.2 237.2 237.2</span></div><div class='xr-array-data'><pre>array([[[273.15997, 273.15997, ..., 273.15997, 273.15997],\n",
       "        [273.15997, 273.15997, ..., 273.15997, 273.15997],\n",
       "        ...,\n",
       "        [244.45306, 246.54042, ..., 248.61827, 244.45306],\n",
       "        [250.04216, 250.22568, ..., 249.83124, 250.04216]],\n",
       "\n",
       "       [[273.15997, 273.15997, ..., 273.15997, 273.15997],\n",
       "        [273.15997, 273.15997, ..., 273.15997, 273.15997],\n",
       "        ...,\n",
       "        [235.51505, 236.63818, ..., 234.55936, 235.51505],\n",
       "        [243.88503, 243.72353, ..., 244.17729, 243.88503]],\n",
       "\n",
       "       ...,\n",
       "\n",
       "       [[252.65335, 253.03725, ..., 252.30899, 252.65335],\n",
       "        [261.95084, 263.23178, ..., 260.72147, 261.95084],\n",
       "        ...,\n",
       "        [248.28166, 244.65604, ..., 248.88187, 248.28166],\n",
       "        [242.80939, 242.77512, ..., 242.7461 , 242.80939]],\n",
       "\n",
       "       [[247.30048, 249.20201, ..., 246.48567, 247.30048],\n",
       "        [258.08194, 260.4798 , ..., 254.9618 , 258.08194],\n",
       "        ...,\n",
       "        [235.83098, 234.93298, ..., 236.46327, 235.83098],\n",
       "        [237.2076 , 237.15004, ..., 237.24037, 237.2076 ]]], dtype=float32)</pre></div></div></li><li class='xr-section-item'><input id='section-9d4766b9-c88b-4e34-b4c9-e285fbeeb958' class='xr-section-summary-in' type='checkbox'  checked><label for='section-9d4766b9-c88b-4e34-b4c9-e285fbeeb958' class='xr-section-summary' >Coordinates: <span>(3)</span></label><div class='xr-section-inline-details'></div><div class='xr-section-details'><ul class='xr-var-list'><li class='xr-var-item'><div class='xr-var-name'><span class='xr-has-index'>lat</span></div><div class='xr-var-dims'>(lat)</div><div class='xr-var-dtype'>int32</div><div class='xr-var-preview xr-preview'>-86 -82 -77 -73 -68 ... 73 77 82 86</div><input id='attrs-f1c62561-d666-4c13-84fc-5662659ad91f' class='xr-var-attrs-in' type='checkbox' ><label for='attrs-f1c62561-d666-4c13-84fc-5662659ad91f' title='Show/Hide attributes'><svg class='icon xr-icon-file-text2'><use xlink:href='#icon-file-text2'></use></svg></label><input id='data-ed74e0be-1ef5-4770-a645-d7ac430e477c' class='xr-var-data-in' type='checkbox'><label for='data-ed74e0be-1ef5-4770-a645-d7ac430e477c' title='Show/Hide data repr'><svg class='icon xr-icon-database'><use xlink:href='#icon-database'></use></svg></label><div class='xr-var-attrs'><dl class='xr-attrs'><dt><span>units :</span></dt><dd>degrees_north</dd></dl></div><div class='xr-var-data'><pre>array([-86, -82, -77, -73, -68, -64, -59, -55, -51, -46, -42, -37, -33, -28,\n",
       "       -24, -20, -15, -11,  -6,  -2,   2,   6,  11,  15,  20,  24,  28,  33,\n",
       "        37,  42,  46,  51,  55,  59,  64,  68,  73,  77,  82,  86], dtype=int32)</pre></div></li><li class='xr-var-item'><div class='xr-var-name'><span class='xr-has-index'>lon</span></div><div class='xr-var-dims'>(lon)</div><div class='xr-var-dtype'>int32</div><div class='xr-var-preview xr-preview'>-180 -172 -165 -157 ... 165 172 180</div><input id='attrs-f475f80f-dd98-4aeb-b756-27e08b2dc46a' class='xr-var-attrs-in' type='checkbox' ><label for='attrs-f475f80f-dd98-4aeb-b756-27e08b2dc46a' title='Show/Hide attributes'><svg class='icon xr-icon-file-text2'><use xlink:href='#icon-file-text2'></use></svg></label><input id='data-d60b7da9-51c0-4c1f-8844-087b6ea3025e' class='xr-var-data-in' type='checkbox'><label for='data-d60b7da9-51c0-4c1f-8844-087b6ea3025e' title='Show/Hide data repr'><svg class='icon xr-icon-database'><use xlink:href='#icon-database'></use></svg></label><div class='xr-var-attrs'><dl class='xr-attrs'><dt><span>units :</span></dt><dd>degrees_east</dd></dl></div><div class='xr-var-data'><pre>array([-180, -172, -165, -157, -150, -142, -135, -127, -120, -112, -105,  -97,\n",
       "        -90,  -82,  -75,  -67,  -60,  -52,  -45,  -37,  -30,  -22,  -15,   -7,\n",
       "          0,    7,   15,   22,   30,   37,   45,   52,   60,   67,   75,   82,\n",
       "         90,   97,  105,  112,  120,  127,  135,  142,  150,  157,  165,  172,\n",
       "        180], dtype=int32)</pre></div></li><li class='xr-var-item'><div class='xr-var-name'><span class='xr-has-index'>time</span></div><div class='xr-var-dims'>(time)</div><div class='xr-var-dtype'>int32</div><div class='xr-var-preview xr-preview'>1 2 3 4 5 6 7 ... 26 27 28 29 30 31</div><input id='attrs-5bc6e58d-e3d6-4ced-af3a-8bacc73a0998' class='xr-var-attrs-in' type='checkbox' ><label for='attrs-5bc6e58d-e3d6-4ced-af3a-8bacc73a0998' title='Show/Hide attributes'><svg class='icon xr-icon-file-text2'><use xlink:href='#icon-file-text2'></use></svg></label><input id='data-0112f30a-7e60-4a07-b02d-a84182cc2445' class='xr-var-data-in' type='checkbox'><label for='data-0112f30a-7e60-4a07-b02d-a84182cc2445' title='Show/Hide data repr'><svg class='icon xr-icon-database'><use xlink:href='#icon-database'></use></svg></label><div class='xr-var-attrs'><dl class='xr-attrs'><dt><span>units :</span></dt><dd>days</dd></dl></div><div class='xr-var-data'><pre>array([ 1,  2,  3,  4,  5,  6,  7,  8,  9, 10, 11, 12, 13, 14, 15, 16, 17, 18,\n",
       "       19, 20, 21, 22, 23, 24, 25, 26, 27, 28, 29, 30, 31], dtype=int32)</pre></div></li></ul></div></li><li class='xr-section-item'><input id='section-c0deeedd-fed6-420a-b769-d4db0c1c5270' class='xr-section-summary-in' type='checkbox'  checked><label for='section-c0deeedd-fed6-420a-b769-d4db0c1c5270' class='xr-section-summary' >Attributes: <span>(1)</span></label><div class='xr-section-inline-details'></div><div class='xr-section-details'><dl class='xr-attrs'><dt><span>units :</span></dt><dd>degrees</dd></dl></div></li></ul></div></div>"
      ],
      "text/plain": [
       "<xarray.DataArray 't' (time: 31, lat: 40, lon: 49)>\n",
       "array([[[273.15997, 273.15997, ..., 273.15997, 273.15997],\n",
       "        [273.15997, 273.15997, ..., 273.15997, 273.15997],\n",
       "        ...,\n",
       "        [244.45306, 246.54042, ..., 248.61827, 244.45306],\n",
       "        [250.04216, 250.22568, ..., 249.83124, 250.04216]],\n",
       "\n",
       "       [[273.15997, 273.15997, ..., 273.15997, 273.15997],\n",
       "        [273.15997, 273.15997, ..., 273.15997, 273.15997],\n",
       "        ...,\n",
       "        [235.51505, 236.63818, ..., 234.55936, 235.51505],\n",
       "        [243.88503, 243.72353, ..., 244.17729, 243.88503]],\n",
       "\n",
       "       ...,\n",
       "\n",
       "       [[252.65335, 253.03725, ..., 252.30899, 252.65335],\n",
       "        [261.95084, 263.23178, ..., 260.72147, 261.95084],\n",
       "        ...,\n",
       "        [248.28166, 244.65604, ..., 248.88187, 248.28166],\n",
       "        [242.80939, 242.77512, ..., 242.7461 , 242.80939]],\n",
       "\n",
       "       [[247.30048, 249.20201, ..., 246.48567, 247.30048],\n",
       "        [258.08194, 260.4798 , ..., 254.9618 , 258.08194],\n",
       "        ...,\n",
       "        [235.83098, 234.93298, ..., 236.46327, 235.83098],\n",
       "        [237.2076 , 237.15004, ..., 237.24037, 237.2076 ]]], dtype=float32)\n",
       "Coordinates:\n",
       "  * lat      (lat) int32 -86 -82 -77 -73 -68 -64 -59 ... 59 64 68 73 77 82 86\n",
       "  * lon      (lon) int32 -180 -172 -165 -157 -150 -142 ... 150 157 165 172 180\n",
       "  * time     (time) int32 1 2 3 4 5 6 7 8 9 10 ... 22 23 24 25 26 27 28 29 30 31\n",
       "Attributes:\n",
       "    units:    degrees"
      ]
     },
     "execution_count": 4,
     "metadata": {},
     "output_type": "execute_result"
    }
   ],
   "source": [
    "tas"
   ]
  },
  {
   "cell_type": "markdown",
   "metadata": {},
   "source": [
    "So, we have a latitude longitude grid over 31 time slices."
   ]
  },
  {
   "cell_type": "markdown",
   "metadata": {},
   "source": [
    "## Initial visualization\n",
    "To get an idea about what we're working with, let's plot the first time slice and figure out how we want to fomat the plot before we get into the animation"
   ]
  },
  {
   "cell_type": "markdown",
   "metadata": {},
   "source": [
    "Let's use xarray to plot the first time slice as a contour plot."
   ]
  },
  {
   "cell_type": "code",
   "execution_count": null,
   "metadata": {},
   "outputs": [
    {
     "data": {
      "text/plain": [
       "<matplotlib.contour.QuadContourSet at 0x7f8cb16f9a90>"
      ]
     },
     "execution_count": 5,
     "metadata": {},
     "output_type": "execute_result"
    },
    {
     "data": {
      "image/png": "[encoded data removed]",
      "text/plain": [
       "<Figure size 432x288 with 2 Axes>"
      ]
     },
     "metadata": {
      "needs_background": "light"
     },
     "output_type": "display_data"
    }
   ],
   "source": [
    "tas[0,:,:].plot.contourf(levels=60)"
   ]
  },
  {
   "cell_type": "markdown",
   "metadata": {},
   "source": [
    "Now, let's redo that, add some formatting to the plot. Here's a list of suggested changes that I'm going to implement in the next step:\n",
    "- adding a projection and map overlay\n",
    "- changing the axes and colorbar labels\n",
    "- changing the colormap\n",
    "- changing the size and positioning of the colorbar"
   ]
  },
  {
   "cell_type": "code",
   "execution_count": null,
   "metadata": {},
   "outputs": [
    {
     "data": {
      "image/png": "[encoded data removed]",
      "text/plain": [
       "<Figure size 432x288 with 2 Axes>"
      ]
     },
     "metadata": {
      "needs_background": "light"
     },
     "output_type": "display_data"
    }
   ],
   "source": [
    "fig = plt.figure()\n",
    "\n",
    "# explicity set up axis with projection\n",
    "ax = plt.axes(projection=ccrs.PlateCarree())\n",
    "\n",
    "# add coastlines\n",
    "ax.coastlines(linewidths=0.5)\n",
    "\n",
    "tas[0, :, :].plot.contourf(ax=ax,\n",
    "                           transform=ccrs.PlateCarree(),\n",
    "                           levels=60,\n",
    "                           cmap=\"inferno\",\n",
    "                           cbar_kwargs={\n",
    "                               \"orientation\": \"horizontal\",\n",
    "                               \"label\": \"t [K]\"}\n",
    "                            )\n",
    "\n",
    "# configure axes\n",
    "ax.set_xlabel(\"\")\n",
    "ax.set_xticks(np.arange(-180, 181, 30))\n",
    "\n",
    "ax.set_ylabel(\"\")\n",
    "ax.set_yticks(np.arange(-90, 91, 30));"
   ]
  },
  {
   "cell_type": "markdown",
   "metadata": {},
   "source": [
    "Now that we have somewhere to start, let's get in to the animation."
   ]
  },
  {
   "cell_type": "markdown",
   "metadata": {},
   "source": [
    "## Animation using matplotlib\n",
    "\n",
    "We are going to be using matplotlib's [`FuncAnimation`](https://matplotlib.org/stable/api/_as_gen/matplotlib.animation.FuncAnimation.html), which makes animations by repeatedly calling a function. Using this method involves three main steps:\n",
    "\n",
    "1. Create an initial state of the plot\n",
    "1. Make a function that can \"progress\" the plot to the next frame of the animation\n",
    "1. Create the animation using `FuncAnimation`\n",
    "\n",
    "See [matplotlib's animation documentation](https://matplotlib.org/stable/api/animation_api.html) for more information."
   ]
  },
  {
   "cell_type": "code",
   "execution_count": null,
   "metadata": {},
   "outputs": [],
   "source": [
    "from matplotlib.animation import FuncAnimation"
   ]
  },
  {
   "cell_type": "markdown",
   "metadata": {},
   "source": [
    "### Step 1: Initial State\n",
    "\n",
    "We're going to use the figure above as the step one \"intial state\" for the animation. An initilization function can be created separately and passed in as an argument to `FuncAnimation`, but it is optional."
   ]
  },
  {
   "cell_type": "markdown",
   "metadata": {},
   "source": [
    "### Step 2: Animation progression function\n",
    "For each frame in the animation, we want to progress time index. The simplest way to achieve this is to make the progression function plot each time slice with the desired formatting.\n",
    "\n",
    "Note that some of the formatting will have to be set after the plotting call, as the plotting call will override the user-specified formatting.\n",
    "\n",
    "Also, if you are using a colorbar, it is important to establish the colorbar in the initilazation and set kwarg `add_colorbar` to be false. Otherwise, an additional colorbar will be added on each iteration."
   ]
  },
  {
   "cell_type": "code",
   "execution_count": null,
   "metadata": {},
   "outputs": [],
   "source": [
    "def update(i):\n",
    "    tas[i, :, :].plot.contourf(ax=ax,\n",
    "                       transform=ccrs.PlateCarree(),\n",
    "                       levels=60,\n",
    "                       cmap=\"inferno\",\n",
    "                       add_colorbar=False\n",
    "                        )\n",
    "    # configure axes\n",
    "    \n",
    "    ax.set_xlabel(\"\")\n",
    "    ax.set_xticks(np.arange(-180, 181, 30))\n",
    "\n",
    "    ax.set_ylabel(\"\")\n",
    "    ax.set_yticks(np.arange(-90, 91, 30))\n",
    "    \n",
    "    # Set plot title\n",
    "    ax.set_title(\"January Surface Temperatures (K) - Day \" + str(i+1));"
   ]
  },
  {
   "cell_type": "markdown",
   "metadata": {},
   "source": [
    "### Step 3: `FuncAnimation`\n",
    "Now, we are going to create the animation. Note that when using `FuncAnimation`, it is important to save the output, even if you will never use it, as it is at risk of being collected by Python's garbage collector if not saved to an instance."
   ]
  },
  {
   "cell_type": "code",
   "execution_count": null,
   "metadata": {},
   "outputs": [
    {
     "ename": "NameError",
     "evalue": "name 'fig' is not defined",
     "output_type": "error",
     "traceback": [
      "\u001b[0;31m---------------------------------------------------------------------------\u001b[0m",
      "\u001b[0;31mNameError\u001b[0m                                 Traceback (most recent call last)",
      "\u001b[0;32m/var/folders/s9/t24bbhy92td3s9sd0d79t5255788jd/T/ipykernel_9200/1764882988.py\u001b[0m in \u001b[0;36m<module>\u001b[0;34m\u001b[0m\n\u001b[1;32m      1\u001b[0m \u001b[0;31m# runs the animation\u001b[0m\u001b[0;34m\u001b[0m\u001b[0;34m\u001b[0m\u001b[0;34m\u001b[0m\u001b[0m\n\u001b[0;32m----> 2\u001b[0;31m \u001b[0manim\u001b[0m \u001b[0;34m=\u001b[0m \u001b[0mFuncAnimation\u001b[0m\u001b[0;34m(\u001b[0m\u001b[0mfig\u001b[0m\u001b[0;34m,\u001b[0m \u001b[0mupdate\u001b[0m\u001b[0;34m,\u001b[0m \u001b[0mframes\u001b[0m\u001b[0;34m=\u001b[0m\u001b[0;36m31\u001b[0m\u001b[0;34m)\u001b[0m\u001b[0;34m\u001b[0m\u001b[0;34m\u001b[0m\u001b[0m\n\u001b[0m",
      "\u001b[0;31mNameError\u001b[0m: name 'fig' is not defined"
     ]
    }
   ],
   "source": [
    "# runs the animation\n",
    "anim = FuncAnimation(fig, update, frames=31)"
   ]
  },
  {
   "cell_type": "markdown",
   "metadata": {},
   "source": [
    "To show the animation in this jupyter notebook, we need to set the html [rcParam](https://matplotlib.org/stable/api/_as_gen/matplotlib.pyplot.rc.html) for animation to `html5`, instead of the default, which is `none`."
   ]
  },
  {
   "cell_type": "code",
   "execution_count": null,
   "metadata": {},
   "outputs": [],
   "source": [
    "from matplotlib import rc\n",
    "rc('animation', html='html5')\n",
    "anim"
   ]
  },
  {
   "cell_type": "markdown",
   "metadata": {},
   "source": [
    "Now, we can save the animation using `FuncAnimation.save()`. This step can take several minutes. We can also set a higher resolution with `dpi`."
   ]
  },
  {
   "cell_type": "code",
   "execution_count": null,
   "metadata": {},
   "outputs": [],
   "source": [
    "anim.save('animate.gif', writer='pillow', fps=5, dpi=300);"
   ]
  },
  {
   "cell_type": "markdown",
   "metadata": {},
   "source": [
    "---"
   ]
  },
  {
   "cell_type": "markdown",
   "metadata": {},
   "source": [
    "## Summary\n",
    "\n",
    "- Matplotlib has animation plotting capabilities that are used by setting an initial plot and creating a \"progression\" function\n",
    "- There are many different ways to display animations in jupyter notebooks\n",
    "- Save created animations by using `FuncAnimation.save()`"
   ]
  },
  {
   "cell_type": "markdown",
   "metadata": {},
   "source": [
    "## Resources and References\n",
    "- [GeoCAT-examples Gallery](https://geocat-examples.readthedocs.io/en/latest/)\n",
    "- [Matplotlib animation documentation](https://matplotlib.org/stable/api/_as_gen/matplotlib.animation.FuncAnimation.html)\n"
   ]
  }
 ],
 "metadata": {
  "kernelspec": {
   "display_name": "Python 3 (ipykernel)",
   "language": "python",
   "name": "python3"
  },
  "language_info": {
   "codemirror_mode": {
    "name": "ipython",
    "version": 3
   },
   "file_extension": ".py",
   "mimetype": "text/x-python",
   "name": "python",
   "nbconvert_exporter": "python",
   "pygments_lexer": "ipython3",
   "version": "3.8.10"
  }
 },
 "nbformat": 4,
 "nbformat_minor": 4
}
