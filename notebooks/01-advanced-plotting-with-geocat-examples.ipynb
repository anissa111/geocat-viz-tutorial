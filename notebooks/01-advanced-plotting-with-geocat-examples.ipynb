{
 "cells": [
  {
   "cell_type": "markdown",
   "metadata": {
    "tags": []
   },
   "source": [
    "<img src=\"../images/GeoCAT_logo.png\" width=400 alt=\"GeoCAT Logo\"></img>"
   ]
  },
  {
   "cell_type": "markdown",
   "metadata": {
    "tags": []
   },
   "source": [
    "# Advanced Plotting with GeoCAT-Examples"
   ]
  },
  {
   "cell_type": "markdown",
   "metadata": {},
   "source": [
    "---"
   ]
  },
  {
   "cell_type": "markdown",
   "metadata": {
    "tags": []
   },
   "source": [
    "## Learning Objectives\n",
    "- Navigating GeoCAT-examples gallery\n",
    "- Recreating an advanced matplotlib example with GeoCAT-examples\n",
    "- Creating an animated plot"
   ]
  },
  {
   "cell_type": "markdown",
   "metadata": {},
   "source": [
    "## Prerequisites\n",
    "\n",
    "\n",
    "| Concepts | Importance |\n",
    "| --- | --- |\n",
    "| Basic familiarity with NumPy | Necessary |\n",
    "| Basic familiarity with Matplotlib | Necessary |\n",
    "| Basic familiarity with Cartopy | Helpful |\n",
    "| Basic familiarity with Xarray | Helpful |\n",
    "\n",
    "- **Time to learn**: *15-20 minutes*\n"
   ]
  },
  {
   "cell_type": "markdown",
   "metadata": {},
   "source": [
    "---"
   ]
  },
  {
   "cell_type": "markdown",
   "metadata": {},
   "source": [
    "## Imports"
   ]
  },
  {
   "cell_type": "code",
   "execution_count": null,
   "metadata": {},
   "outputs": [],
   "source": [
    "import cartopy.crs as ccrs\n",
    "import numpy as np\n",
    "import xarray as xr\n",
    "from matplotlib import pyplot as plt"
   ]
  },
  {
   "cell_type": "code",
   "execution_count": 1,
   "metadata": {},
   "outputs": [],
   "source": [
    "# geocat specific imports\n",
    "import geocat.datafiles as gdf"
   ]
  },
  {
   "cell_type": "markdown",
   "metadata": {},
   "source": [
    "## Get the data we want to animate\n",
    "If you're replicating a script from geocat-examples, there's a good chance that we've stored the required data files in a repository called [geocat-datafiles](https://github.com/NCAR/geocat-datafiles), which we can pull from."
   ]
  },
  {
   "cell_type": "code",
   "execution_count": null,
   "metadata": {},
   "outputs": [],
   "source": [
    "# Open a netCDF data file using xarray default engine and load the data into xarrays\n",
    "ds = xr.open_dataset(gdf.get(\"netcdf_files/meccatemp.cdf\"), decode_times=False)\n",
    "\n",
    "# Pull out surface temperature Dataarray from xarray Dataset\n",
    "tas = ds.t"
   ]
  },
  {
   "cell_type": "code",
   "execution_count": null,
   "metadata": {},
   "outputs": [],
   "source": [
    "tas"
   ]
  },
  {
   "cell_type": "markdown",
   "metadata": {},
   "source": [
    "So, we have a latitude longitude grid over 31 time slices."
   ]
  },
  {
   "cell_type": "markdown",
   "metadata": {},
   "source": [
    "## Initial vizualization\n",
    "To get an idea about what we're working with, let's plot the first time slice and figure out how we want to fomat the plot before we get into the animation"
   ]
  },
  {
   "cell_type": "markdown",
   "metadata": {},
   "source": [
    "Let's use xarray to plot the first time slice as a contour plot."
   ]
  },
  {
   "cell_type": "code",
   "execution_count": null,
   "metadata": {},
   "outputs": [],
   "source": [
    "fig = plt.figure()\n",
    "tas[0,:,:].plot.contourf(levels=60)"
   ]
  },
  {
   "cell_type": "markdown",
   "metadata": {},
   "source": [
    "Now, let's redo that, add some formatting to the plot. Here's a list of suggested changes that I'm going to implement in the next step:\n",
    "- adding a projection and map overlay\n",
    "- changing the axes and colorbar labels\n",
    "- changing the colormap\n",
    "- changing the size and positioning of the colorbar"
   ]
  },
  {
   "cell_type": "code",
   "execution_count": null,
   "metadata": {},
   "outputs": [],
   "source": [
    "fig = plt.figure()\n",
    "\n",
    "# explicitly set up axis with projection\n",
    "ax = plt.axes(projection=ccrs.PlateCarree())\n",
    "\n",
    "# add coastlines\n",
    "ax.coastlines(linewidths=0.5)\n",
    "\n",
    "tas[0, :, :].plot.contourf(ax=ax,\n",
    "                           transform=ccrs.PlateCarree(),\n",
    "                           levels=60,\n",
    "                           cmap=\"inferno\",\n",
    "                           cbar_kwargs={\n",
    "                               \"orientation\": \"horizontal\",\n",
    "                               \"label\": \"t [K]\"}\n",
    "                            )\n",
    "\n",
    "# configure axes\n",
    "ax.set_xlabel(\"\")\n",
    "ax.set_xticks(np.arange(-180, 181, 30))\n",
    "\n",
    "ax.set_ylabel(\"\")\n",
    "ax.set_yticks(np.arange(-90, 91, 30));"
   ]
  },
  {
   "cell_type": "markdown",
   "metadata": {},
   "source": [
    "Now that we have somewhere to start, let's get in to the animation."
   ]
  },
  {
   "cell_type": "markdown",
   "metadata": {},
   "source": [
    "## Animation using matplotlib\n",
    "\n",
    "We are going to be using matplotlib's [`FuncAnimation`](https://matplotlib.org/stable/api/_as_gen/matplotlib.animation.FuncAnimation.html), which makes animations by repeatedly calling a function. Using this method involves three main steps:\n",
    "\n",
    "1. Create an initial state of the plot\n",
    "1. Make a function that can \"progress\" the plot to the next frame of the animation\n",
    "1. Create the animation using `FuncAnimation`\n",
    "\n",
    "See [matplotlib's animation documentation](https://matplotlib.org/stable/api/animation_api.html) for more information."
   ]
  },
  {
   "cell_type": "code",
   "execution_count": null,
   "metadata": {},
   "outputs": [],
   "source": [
    "from matplotlib.animation import FuncAnimation"
   ]
  },
  {
   "cell_type": "markdown",
   "metadata": {},
   "source": [
    "### Step 1: Initial State\n",
    "\n",
    "We're going to use the figure above as the step one \"intial state\" for the animation. An initilization function can be created separately and passed in as an argument to `FuncAnimation`, but it is optional."
   ]
  },
  {
   "cell_type": "markdown",
   "metadata": {},
   "source": [
    "### Step 2: Animation progression function\n",
    "For each frame in the animation, we want to progress time index. The simplest way to achieve this is to make the progression function plot each time slice with the desired formatting.\n",
    "\n",
    "Note that some of the formatting will have to be set after the plotting call, as the plotting call will override the user-specified formatting.\n",
    "\n",
    "Also, if you are using a colorbar, it is important to establish the colorbar in the initilazation and set kwarg `add_colorbar` to be false. Otherwise, an additional colorbar will be added on each iteration."
   ]
  },
  {
   "cell_type": "code",
   "execution_count": null,
   "metadata": {},
   "outputs": [],
   "source": [
    "def update(i):\n",
    "    tas[i, :, :].plot.contourf(ax=ax,\n",
    "                       transform=ccrs.PlateCarree(),\n",
    "                       levels=60,\n",
    "                       cmap=\"inferno\",\n",
    "                       add_colorbar=False\n",
    "                        )\n",
    "    # configure axes\n",
    "    \n",
    "    ax.set_xlabel(\"\")\n",
    "    ax.set_xticks(np.arange(-180, 181, 30))\n",
    "\n",
    "    ax.set_ylabel(\"\")\n",
    "    ax.set_yticks(np.arange(-90, 91, 30))\n",
    "    \n",
    "    # Set plot title\n",
    "    ax.set_title(\"January Surface Temperatures (K) - Day \" + str(i+1));"
   ]
  },
  {
   "cell_type": "markdown",
   "metadata": {},
   "source": [
    "### Step 3: `FuncAnimation`\n",
    "Now, we are going to create the animation. Note that when using `FuncAnimation`, it is important to save the output, even if you will never use it, as it is at risk of being collected by Python's garbage collector if not saved to an instance."
   ]
  },
  {
   "cell_type": "code",
   "execution_count": null,
   "metadata": {},
   "outputs": [],
   "source": [
    "# runs the animation\n",
    "anim = FuncAnimation(fig, update, frames=31)"
   ]
  },
  {
   "cell_type": "markdown",
   "metadata": {},
   "source": [
    "To show the animation in this jupyter notebook, we need to set the rc parameter for animation to `html5`, instead of the default, which is `none`."
   ]
  },
  {
   "cell_type": "code",
   "execution_count": null,
   "metadata": {},
   "outputs": [],
   "source": [
    "from matplotlib import rc\n",
    "rc('animation', html='html5')\n",
    "anim"
   ]
  },
  {
   "cell_type": "markdown",
   "metadata": {},
   "source": [
    "Now, we can save the animation using `FuncAnimation.save()`. This step can take several minutes. We can also set a higher resolution with `dpi`."
   ]
  },
  {
   "cell_type": "code",
   "execution_count": null,
   "metadata": {},
   "outputs": [],
   "source": [
    "anim.save('animate.gif', writer='pillow', fps=5, dpi=300);"
   ]
  },
  {
   "cell_type": "markdown",
   "metadata": {},
   "source": [
    "---"
   ]
  },
  {
   "cell_type": "code",
   "execution_count": null,
   "metadata": {},
   "outputs": [],
   "source": []
  }
 ],
 "metadata": {
  "kernelspec": {
   "display_name": "Python 3 (ipykernel)",
   "language": "python",
   "name": "python3"
  },
  "language_info": {
   "codemirror_mode": {
    "name": "ipython",
    "version": 3
   },
   "file_extension": ".py",
   "mimetype": "text/x-python",
   "name": "python",
   "nbconvert_exporter": "python",
   "pygments_lexer": "ipython3",
   "version": "3.8.10"
  }
 },
 "nbformat": 4,
 "nbformat_minor": 4
}