{
 "cells": [
  {
   "cell_type": "markdown",
   "id": "7f6051cc",
   "metadata": {},
   "source": [
    "<img src=\"../images/GeoCAT_logo.png\" width=400 alt=\"GeoCAT Logo\"></img>"
   ]
  },
  {
   "cell_type": "markdown",
   "id": "5f6a3d6e",
   "metadata": {},
   "source": [
    "# Plotting with GeoCAT-viz"
   ]
  },
  {
   "cell_type": "markdown",
   "id": "04cd0bb9",
   "metadata": {},
   "source": [
    "---"
   ]
  },
  {
   "cell_type": "markdown",
   "id": "abaa3cf9",
   "metadata": {},
   "source": [
    "## Learning Objectives\n",
    "- Know what GeoCAT-viz is and how it can be useful to you"
   ]
  },
  {
   "cell_type": "markdown",
   "id": "cf8c7af0",
   "metadata": {},
   "source": [
    "## Prerequisites\n",
    "\n",
    "\n",
    "| Concepts | Importance |\n",
    "| --- | --- |\n",
    "| Basic familiarity with NumPy | Necessary |\n",
    "| Basic familiarity with Matplotlib | Necessary |\n",
    "| Basic familiarity with Cartopy | Helpful |\n",
    "| Basic familiarity with Xarray | Helpful |\n",
    "\n",
    "- **Time to learn**: *15-20 minutes*\n"
   ]
  },
  {
   "cell_type": "markdown",
   "id": "fb0f99bc",
   "metadata": {},
   "source": [
    "---"
   ]
  },
  {
   "cell_type": "markdown",
   "id": "f1ed5898-a26c-4b8f-874e-f4a8f5fc759c",
   "metadata": {},
   "source": [
    "<div class=\"admonition alert alert-danger\">\n",
    "   \n",
    "This notebook demonstrates geocat-viz functionality not officially released as of the time of this tutorial. \n",
    "\n",
    "</div>"
   ]
  },
  {
   "cell_type": "markdown",
   "id": "28f2e88b",
   "metadata": {},
   "source": [
    "## Imports"
   ]
  },
  {
   "cell_type": "code",
   "execution_count": 2,
   "id": "c4d5f407",
   "metadata": {},
   "outputs": [],
   "source": [
    "import xarray as xr\n",
    "import numpy as np\n",
    "import cartopy.crs as ccrs\n",
    "import matplotlib.pyplot as plt"
   ]
  },
  {
   "cell_type": "code",
   "execution_count": 3,
   "id": "e63a82b4",
   "metadata": {},
   "outputs": [],
   "source": [
    "# geocat specific imports\n",
    "from geocat.viz.contourf import Contour\n",
    "from geocat.viz.taylor import TaylorDiagram\n",
    "from geocat.viz import cmaps as gvcmaps\n",
    "from geocat.viz import util as gvutil\n",
    "import geocat.datafiles as gdf"
   ]
  },
  {
   "cell_type": "markdown",
   "id": "6a6031c7-a8b0-4ff4-be31-7fa8676af032",
   "metadata": {},
   "source": [
    "## Example 1: Contours"
   ]
  },
  {
   "cell_type": "markdown",
   "id": "cdfc2ed8-7823-4f83-b1bb-c24829253a79",
   "metadata": {
    "tags": []
   },
   "source": [
    "### Get the data we want to use"
   ]
  },
  {
   "cell_type": "markdown",
   "id": "59f8b266-87f5-4197-b154-090288467a13",
   "metadata": {},
   "source": [
    "Using geocat-datafiles again, pull the data we're going to use for both versions of the plot"
   ]
  },
  {
   "cell_type": "code",
   "execution_count": 4,
   "id": "eb946001",
   "metadata": {},
   "outputs": [],
   "source": [
    "# Open a netCDF data file using xarray default engine and load the data into xarray\n",
    "ds = xr.open_dataset(gdf.get(\"netcdf_files/uv300.nc\")).isel(time=1)"
   ]
  },
  {
   "cell_type": "markdown",
   "id": "85a50d7d-8dfd-4c80-a6a7-77ef84faba0b",
   "metadata": {},
   "source": [
    "### Recreating an NCL Contour Plot with current GeoCAT-viz functionality"
   ]
  },
  {
   "cell_type": "markdown",
   "id": "90d47e40-bb6b-4fbe-93e7-45fe081b7b4e",
   "metadata": {},
   "source": [
    "The first goal of geocat-viz created reusable utility functions that aim to make some of the NCL formatting easier. \n",
    "\n",
    "Below is an example from the GeoCAT-examples repository, [NCL_color_1](https://geocat-examples.readthedocs.io/en/latest/gallery/Contours/NCL_color_1.html#sphx-glr-gallery-contours-ncl-color-1-py) using the data we pulled in above and that uses some of the geocat-viz utility functions"
   ]
  },
  {
   "cell_type": "markdown",
   "id": "b38d2d83-4d0f-4f88-b01b-8e9f4bc445b2",
   "metadata": {},
   "source": [
    "<div class=\"admonition alert alert-success\">\n",
    "   \n",
    "This section represents the currently released functionality of geocat-viz\n",
    "\n",
    "</div>"
   ]
  },
  {
   "cell_type": "code",
   "execution_count": null,
   "id": "e92dd248-1bd3-4103-830f-7f50b4f371dc",
   "metadata": {},
   "outputs": [],
   "source": [
    "# Generate figure and set its size in (width, height)\n",
    "fig = plt.figure(figsize=(10, 8))\n",
    "\n",
    "# Generate axes using Cartopy to draw coastlines\n",
    "ax = plt.axes(projection=ccrs.PlateCarree())\n",
    "ax.coastlines(linewidth=0.5, alpha=0.6)\n",
    "\n",
    "# Use geocat.viz.util convenience function to set axes limits & tick values\n",
    "gvutil.set_axes_limits_and_ticks(ax,\n",
    "                                 xlim=(-180, 180),\n",
    "                                 ylim=(-90, 90),\n",
    "                                 xticks=np.linspace(-180, 180, 13),\n",
    "                                 yticks=np.linspace(-90, 90, 7))\n",
    "\n",
    "# Use geocat.viz.util convenience function to add minor and major tick lines\n",
    "gvutil.add_major_minor_ticks(ax, labelsize=10)\n",
    "\n",
    "# Use geocat.viz.util convenience function to make latitude, longitude tick labels\n",
    "gvutil.add_lat_lon_ticklabels(ax)\n",
    "\n",
    "# Import the default color map\n",
    "newcmp = gvcmaps.ncl_default\n",
    "\n",
    "# Define contour levels\n",
    "levels = np.arange(-16, 48, 4)\n",
    "\n",
    "# Define dictionary for kwargs\n",
    "kwargs = dict(\n",
    "    levels=levels,\n",
    "    xticks=np.arange(-180, 181, 30),  # nice x ticks\n",
    "    yticks=np.arange(-90, 91, 30),  # nice y ticks\n",
    "    add_colorbar=False,  # allow for colorbar specification later\n",
    "    transform=ccrs.PlateCarree(),  # ds projection\n",
    ")\n",
    "\n",
    "# Contouf-plot U data (for filled contours)\n",
    "fillplot = ds.U.plot.contourf(ax=ax, cmap=newcmp, **kwargs)\n",
    "\n",
    "# Create horizontal color bar\n",
    "# By changing the kwarg `pad`, the colorbar can be moved closer to or farther away from\n",
    "# the axis parallel to it.\n",
    "# `pad` defaults to 0.15 for horizontal colorbars\n",
    "fig.colorbar(fillplot,\n",
    "             orientation=\"horizontal\",\n",
    "             ticks=np.arange(-12, 44, 4),\n",
    "             label='',\n",
    "             shrink=0.75,\n",
    "             pad=0.11)\n",
    "\n",
    "# Plot line contours\n",
    "ds.U.plot.contour(ax=ax,\n",
    "                  colors='black',\n",
    "                  alpha=0.8,\n",
    "                  linewidths=0.4,\n",
    "                  linestyles='solid',\n",
    "                  add_labels=False,\n",
    "                  levels=levels,\n",
    "                  transform=ccrs.PlateCarree())\n",
    "\n",
    "# Use geocat.viz.util convenience function to add titles to left and right of the plot axis.\n",
    "gvutil.set_titles_and_labels(ax,\n",
    "                             maintitle=\"Default Color\",\n",
    "                             lefttitle=ds.U.long_name,\n",
    "                             lefttitlefontsize=16,\n",
    "                             righttitle=ds.U.units,\n",
    "                             righttitlefontsize=16,\n",
    "                             xlabel=\"\",\n",
    "                             ylabel=\"\")\n",
    "\n",
    "# Show the plot\n",
    "plt.show()"
   ]
  },
  {
   "cell_type": "markdown",
   "id": "533fb6c7-198e-4bea-88a8-e27474672a2e",
   "metadata": {},
   "source": [
    "### Recreating the same plot with upcoming GeoCAT-viz functionality"
   ]
  },
  {
   "cell_type": "markdown",
   "id": "ca473ac5-2c30-4876-93b9-6cf7217d3711",
   "metadata": {},
   "source": [
    "From our previous matplotlib tutorial, you might suspect that this is more lines than technically needed to create a plot that accurately displays the information we want. \n",
    "\n",
    "The secondary goal of geocat-viz is to create plotting functions based on matplotlib that can make an estimation of NCL style plots. These functions may not exactly recreate the NCL example scripts, but provide a user-friendly way to make NCL style plots."
   ]
  },
  {
   "cell_type": "markdown",
   "id": "f1621eaf-c7db-47e8-8a2c-5255a1c7367a",
   "metadata": {},
   "source": [
    "<div class=\"admonition alert alert-danger\">\n",
    "   \n",
    "This is unreleased functionality not yet avaialble in geocat-viz\n",
    "\n",
    "</div>"
   ]
  },
  {
   "cell_type": "code",
   "execution_count": null,
   "id": "4334a884",
   "metadata": {},
   "outputs": [],
   "source": [
    "projection = ccrs.PlateCarree()\n",
    "levels = np.arange(-16, 48, 4)\n",
    "\n",
    "Contour(\n",
    "    ds.U,\n",
    "    flevels=levels,\n",
    "    clevels=levels,\n",
    "    cmap=gvcmaps.ncl_default,\n",
    "    xlim=(-180, 180),\n",
    "    ylim=(-90, 90),\n",
    "    xticks=np.linspace(-180, 180, 13),\n",
    "    yticks=np.linspace(-90, 90, 7),\n",
    "    projection=projection,\n",
    "    maintitle=\"Default Color\",\n",
    "    lefttitle=ds.U.long_name,\n",
    "    righttitle=ds.U.units,\n",
    ")\n",
    "\n",
    "plt.show()"
   ]
  },
  {
   "cell_type": "markdown",
   "id": "8b099acc-b691-4832-9bea-07c5fe88b59a",
   "metadata": {},
   "source": [
    "This wrapper function creates a replication of the original NCL plot with minimal knowledge of geocat-viz helper functions. \n",
    "\n",
    "Future planned improvements include the automation of several of the kwargs, letting the internal program take a \"guess\" at what NCL *would* do."
   ]
  },
  {
   "cell_type": "markdown",
   "id": "e80aaecc-e17a-46f8-896b-74f541525713",
   "metadata": {},
   "source": [
    "## Example 2: Taylor Diagrams"
   ]
  },
  {
   "cell_type": "markdown",
   "id": "b9b56d31-3686-42ad-951f-b7895fcc22d4",
   "metadata": {},
   "source": [
    "<div class=\"admonition alert alert-warning\">\n",
    "   \n",
    "This functionality will be officially released in the September GeoCAT release.\n",
    "\n",
    "</div>"
   ]
  },
  {
   "cell_type": "markdown",
   "id": "111d2fda-4b1c-4bc4-8679-14b8c1c0e93c",
   "metadata": {},
   "source": [
    "The GeoCAT development of Taylor diagrams started with an [example request issue](https://github.com/NCAR/GeoCAT-examples/issues/323) created on geocat-examples.\n",
    "\n",
    "As we looked in to making an example of this type of plot, we discovered that there wasn't a good way to create this type of plot using vanilla matplotlib."
   ]
  },
  {
   "cell_type": "markdown",
   "id": "5a8c8bff-9839-4025-8ab1-1b10e781961c",
   "metadata": {},
   "source": [
    "### A Taylor Diagram Primer"
   ]
  },
  {
   "cell_type": "markdown",
   "id": "02bcd25e-0d07-41fe-832f-1758db83b3c7",
   "metadata": {},
   "source": [
    "Taylor diagrams are a \"a concise statistical summary of how well patterns match each other in terms of their correlation, their root-mean-square difference and the ratio of their variances\" according to the [original AGU paper by Taylor](https://agupubs.onlinelibrary.wiley.com/doi/10.1029/2000JD900719) in 2001.\n",
    "\n"
   ]
  },
  {
   "cell_type": "markdown",
   "id": "15730b85-d0d3-4a2f-a848-8d4db7ff26ff",
   "metadata": {},
   "source": [
    "<img src=\"../images/taylor_paper.png\" width=2000 alt=\"screenshot of title and abstract of Taylor Diagram AGU paper\"></img>"
   ]
  },
  {
   "cell_type": "markdown",
   "id": "10924e27-6b0f-4a5d-b373-5864f3d19daf",
   "metadata": {},
   "source": [
    "Taylor diagrams plot the weighted centered cappern correlations, the ratios of the normalized root-mean-squared differences between the test and reference data sets, and optionally a bias statistic. Below is an example from [NCL's Taylor diagram documentation](https://www.ncl.ucar.edu/Applications/taylor.shtml)."
   ]
  },
  {
   "cell_type": "markdown",
   "id": "c1e4e5f7-7e72-46a4-97de-5c41778051fb",
   "metadata": {},
   "source": [
    "<img src=\"../images/taylor_3.png\" width=600 alt=\"NCL example taylor diagram\"></img>"
   ]
  },
  {
   "cell_type": "markdown",
   "id": "e72df6a0-27e5-411e-84fd-3080e903af7a",
   "metadata": {},
   "source": [
    "### Recreating Taylor Diagrams"
   ]
  },
  {
   "cell_type": "markdown",
   "id": "cf425cd5-00c2-4e02-bcc6-c8d70c3b0224",
   "metadata": {},
   "source": [
    "We're going to demonstrate geocat-viz's `TaylorDiagram` by recreating the above example from the NCL documentation."
   ]
  },
  {
   "cell_type": "code",
   "execution_count": null,
   "id": "bf6b2e15-d9b3-4a3d-a7d2-0bb349b2fa11",
   "metadata": {},
   "outputs": [],
   "source": [
    "# Case A\n",
    "CA_ratio = [1.230, 0.988, 1.092, 1.172, 1.064, 0.966, 1.079, 0.781]  # case variance/ref variance\n",
    "CA_cc = [0.958, 0.973, 0.740, 0.743, 0.922, 0.982, 0.952, 0.433]     # cross corr coef of case to ref\n",
    "\n",
    "# Case B\n",
    "CB_ratio = [1.129, 0.996, 1.016, 1.134, 1.023, 0.962, 1.048, 0.852]  # case variance/ref variance\n",
    "CB_cc = [0.963, 0.975, 0.801, 0.814, 0.946, 0.984, 0.968, 0.647]     # cross corr coef of case to ref\n",
    "\n",
    "# Create TaylorDiagram instance\n",
    "tp = TaylorDiagram()\n",
    "\n",
    "# Add models to Taylor diagram\n",
    "tp.add_model_set(CA_ratio,\n",
    "                  CA_cc,\n",
    "                  color='red',\n",
    "                  marker='o',\n",
    "                  label='Case A')\n",
    "\n",
    "tp.add_model_set(CB_ratio,\n",
    "                  CB_cc,\n",
    "                  color='blue',\n",
    "                  marker='o',\n",
    "                  label='Case B')\n",
    "\n",
    "# Add model names\n",
    "namearr = ['SLP', 'Tsfc', 'Prc', 'Prc 30S-30N', 'LW', 'SW', 'U300', 'Guess']\n",
    "tp.add_model_name(namearr)\n",
    "\n",
    "# Add figure legend\n",
    "tp.add_legend()\n",
    "\n",
    "# Display the plot\n",
    "plt.show();\n"
   ]
  },
  {
   "cell_type": "markdown",
   "id": "d66e4f32-11ef-42ad-beaf-872e0ebc32d5",
   "metadata": {},
   "source": [
    "### Comparison"
   ]
  },
  {
   "cell_type": "code",
   "execution_count": null,
   "id": "24a11d80-2ae0-4cf2-a4ac-5d5602dc8dc5",
   "metadata": {},
   "outputs": [],
   "source": []
  }
 ],
 "metadata": {
  "kernelspec": {
   "display_name": "Python 3 (ipykernel)",
   "language": "python",
   "name": "python3"
  },
  "language_info": {
   "codemirror_mode": {
    "name": "ipython",
    "version": 3
   },
   "file_extension": ".py",
   "mimetype": "text/x-python",
   "name": "python",
   "nbconvert_exporter": "python",
   "pygments_lexer": "ipython3",
   "version": "3.8.10"
  }
 },
 "nbformat": 4,
 "nbformat_minor": 5
}